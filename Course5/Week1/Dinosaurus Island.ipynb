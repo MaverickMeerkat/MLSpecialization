{
 "cells": [
  {
   "cell_type": "code",
   "execution_count": 3,
   "metadata": {},
   "outputs": [
    {
     "name": "stderr",
     "output_type": "stream",
     "text": [
      "Using TensorFlow backend.\n"
     ]
    }
   ],
   "source": [
    "import numpy as np\n",
    "import keras\n",
    "from keras.models import Model\n",
    "from keras.layers import Input, SimpleRNN, Dense, Lambda, LSTM\n",
    "from keras import backend as K"
   ]
  },
  {
   "cell_type": "markdown",
   "metadata": {},
   "source": [
    "How many charactars in the our data?"
   ]
  },
  {
   "cell_type": "code",
   "execution_count": 4,
   "metadata": {},
   "outputs": [
    {
     "name": "stdout",
     "output_type": "stream",
     "text": [
      "There are 19909 total characters and 27 unique characters in your data.\n"
     ]
    }
   ],
   "source": [
    "data = open('dinos.txt', 'r').read()\n",
    "data= data.lower()\n",
    "chars = list(set(data))\n",
    "data_size, vocab_size = len(data), len(chars)\n",
    "print('There are %d total characters and %d unique characters in your data.' % (data_size, vocab_size))"
   ]
  },
  {
   "cell_type": "code",
   "execution_count": 5,
   "metadata": {},
   "outputs": [
    {
     "name": "stdout",
     "output_type": "stream",
     "text": [
      "{0: '\\n', 1: 'a', 2: 'b', 3: 'c', 4: 'd', 5: 'e', 6: 'f', 7: 'g', 8: 'h', 9: 'i', 10: 'j', 11: 'k', 12: 'l', 13: 'm', 14: 'n', 15: 'o', 16: 'p', 17: 'q', 18: 'r', 19: 's', 20: 't', 21: 'u', 22: 'v', 23: 'w', 24: 'x', 25: 'y', 26: 'z', 27: ''}\n"
     ]
    }
   ],
   "source": [
    "char_to_ix = { ch:i for i,ch in enumerate(sorted(chars)) }\n",
    "char_to_ix[\"\\n\"] = 0\n",
    "ix_to_char = { i:ch for i,ch in enumerate(sorted(chars)) }\n",
    "ix_to_char[27] = \"\"\n",
    "print(ix_to_char)"
   ]
  },
  {
   "cell_type": "markdown",
   "metadata": {},
   "source": [
    "Let's create our training set:"
   ]
  },
  {
   "cell_type": "code",
   "execution_count": 6,
   "metadata": {},
   "outputs": [],
   "source": [
    "# open the file again, and read the lines\n",
    "with open(\"dinos.txt\") as f:\n",
    "    examples = f.readlines()\n",
    "examples = [x.lower().strip() for x in examples]\n",
    "# Shuffle list of all dinosaur names\n",
    "np.random.seed(210)\n",
    "np.random.shuffle(examples)"
   ]
  },
  {
   "cell_type": "code",
   "execution_count": 7,
   "metadata": {},
   "outputs": [
    {
     "name": "stdout",
     "output_type": "stream",
     "text": [
      "26\n"
     ]
    }
   ],
   "source": [
    "# compute the max length of a word in data\n",
    "maxLen = len(max(examples, key=len))\n",
    "print(maxLen)"
   ]
  },
  {
   "cell_type": "code",
   "execution_count": 8,
   "metadata": {},
   "outputs": [],
   "source": [
    "m = len(examples)\n",
    "feature_size = 1  # we use the actual index, and not 1-hot-encoding\n",
    "\n",
    "X = np.full((m, maxLen, feature_size), 27)\n",
    "Y = np.full((m, maxLen, feature_size), 27)\n",
    "\n",
    "for i in range(m):\n",
    "    word = examples[i]\n",
    "    l = len(word)        \n",
    "    X[i, 0:l, :] = np.array([char_to_ix[ch] for ch in word]).reshape(-1, 1)\n",
    "    Y[i, 0:l, :] = np.concatenate([X[i, 1:l, :], [[char_to_ix[\"\\n\"]]]])"
   ]
  },
  {
   "cell_type": "code",
   "execution_count": 9,
   "metadata": {},
   "outputs": [],
   "source": [
    "# create the model\n",
    "def simple_model(input_shape, n_a = 50):\n",
    "    inp = Input(shape=input_shape, name='x')\n",
    "    X = SimpleRNN(n_a, return_sequences=True)(inp)\n",
    "    X = Dense(vocab_size+1, activation='softmax')(X)\n",
    "    model = Model(inputs=inp, outputs=X)\n",
    "    return model"
   ]
  },
  {
   "cell_type": "code",
   "execution_count": 10,
   "metadata": {},
   "outputs": [
    {
     "name": "stdout",
     "output_type": "stream",
     "text": [
      "Epoch 1/100\n",
      "1536/1536 [==============================] - 1s 920us/step - loss: 2.4010 - sparse_categorical_accuracy: 0.3905\n",
      "Epoch 2/100\n",
      "1536/1536 [==============================] - 1s 525us/step - loss: 1.6093 - sparse_categorical_accuracy: 0.5642\n",
      "Epoch 3/100\n",
      "1536/1536 [==============================] - 1s 540us/step - loss: 1.4377 - sparse_categorical_accuracy: 0.5810\n",
      "Epoch 4/100\n",
      "1536/1536 [==============================] - 1s 530us/step - loss: 1.3422 - sparse_categorical_accuracy: 0.6346\n",
      "Epoch 5/100\n",
      "1536/1536 [==============================] - 1s 529us/step - loss: 1.2661 - sparse_categorical_accuracy: 0.6652\n",
      "Epoch 6/100\n",
      "1536/1536 [==============================] - 1s 533us/step - loss: 1.2063 - sparse_categorical_accuracy: 0.6808\n",
      "Epoch 7/100\n",
      "1536/1536 [==============================] - 1s 533us/step - loss: 1.1585 - sparse_categorical_accuracy: 0.6835\n",
      "Epoch 8/100\n",
      "1536/1536 [==============================] - 1s 567us/step - loss: 1.1208 - sparse_categorical_accuracy: 0.6860\n",
      "Epoch 9/100\n",
      "1536/1536 [==============================] - 1s 541us/step - loss: 1.0882 - sparse_categorical_accuracy: 0.6915\n",
      "Epoch 10/100\n",
      "1536/1536 [==============================] - 1s 537us/step - loss: 1.0672 - sparse_categorical_accuracy: 0.6939\n",
      "Epoch 11/100\n",
      "1536/1536 [==============================] - 1s 533us/step - loss: 1.0525 - sparse_categorical_accuracy: 0.6947\n",
      "Epoch 12/100\n",
      "1536/1536 [==============================] - 1s 527us/step - loss: 1.0407 - sparse_categorical_accuracy: 0.6976\n",
      "Epoch 13/100\n",
      "1536/1536 [==============================] - 1s 532us/step - loss: 1.0307 - sparse_categorical_accuracy: 0.7000\n",
      "Epoch 14/100\n",
      "1536/1536 [==============================] - 1s 544us/step - loss: 1.0224 - sparse_categorical_accuracy: 0.7034\n",
      "Epoch 15/100\n",
      "1536/1536 [==============================] - 1s 556us/step - loss: 1.0181 - sparse_categorical_accuracy: 0.7046\n",
      "Epoch 16/100\n",
      "1536/1536 [==============================] - 1s 548us/step - loss: 1.0096 - sparse_categorical_accuracy: 0.7059\n",
      "Epoch 17/100\n",
      "1536/1536 [==============================] - 1s 543us/step - loss: 1.0053 - sparse_categorical_accuracy: 0.7070\n",
      "Epoch 18/100\n",
      "1536/1536 [==============================] - 1s 533us/step - loss: 1.0012 - sparse_categorical_accuracy: 0.7070\n",
      "Epoch 19/100\n",
      "1536/1536 [==============================] - 1s 523us/step - loss: 0.9962 - sparse_categorical_accuracy: 0.7074\n",
      "Epoch 20/100\n",
      "1536/1536 [==============================] - 1s 537us/step - loss: 0.9923 - sparse_categorical_accuracy: 0.7084\n",
      "Epoch 21/100\n",
      "1536/1536 [==============================] - 1s 530us/step - loss: 0.9882 - sparse_categorical_accuracy: 0.7090\n",
      "Epoch 22/100\n",
      "1536/1536 [==============================] - 1s 523us/step - loss: 0.9858 - sparse_categorical_accuracy: 0.7094\n",
      "Epoch 23/100\n",
      "1536/1536 [==============================] - 1s 533us/step - loss: 0.9819 - sparse_categorical_accuracy: 0.7109\n",
      "Epoch 24/100\n",
      "1536/1536 [==============================] - 1s 529us/step - loss: 0.9791 - sparse_categorical_accuracy: 0.7105\n",
      "Epoch 25/100\n",
      "1536/1536 [==============================] - 1s 543us/step - loss: 0.9765 - sparse_categorical_accuracy: 0.7099\n",
      "Epoch 26/100\n",
      "1536/1536 [==============================] - 1s 537us/step - loss: 0.9743 - sparse_categorical_accuracy: 0.7109\n",
      "Epoch 27/100\n",
      "1536/1536 [==============================] - 1s 539us/step - loss: 0.9717 - sparse_categorical_accuracy: 0.7119\n",
      "Epoch 28/100\n",
      "1536/1536 [==============================] - 1s 538us/step - loss: 0.9688 - sparse_categorical_accuracy: 0.7114\n",
      "Epoch 29/100\n",
      "1536/1536 [==============================] - 1s 538us/step - loss: 0.9681 - sparse_categorical_accuracy: 0.7118\n",
      "Epoch 30/100\n",
      "1536/1536 [==============================] - 1s 524us/step - loss: 0.9661 - sparse_categorical_accuracy: 0.7120\n",
      "Epoch 31/100\n",
      "1536/1536 [==============================] - 1s 538us/step - loss: 0.9634 - sparse_categorical_accuracy: 0.7130\n",
      "Epoch 32/100\n",
      "1536/1536 [==============================] - 1s 538us/step - loss: 0.9609 - sparse_categorical_accuracy: 0.7128\n",
      "Epoch 33/100\n",
      "1536/1536 [==============================] - 1s 524us/step - loss: 0.9583 - sparse_categorical_accuracy: 0.7140\n",
      "Epoch 34/100\n",
      "1536/1536 [==============================] - 1s 539us/step - loss: 0.9564 - sparse_categorical_accuracy: 0.7148\n",
      "Epoch 35/100\n",
      "1536/1536 [==============================] - 1s 574us/step - loss: 0.9544 - sparse_categorical_accuracy: 0.7149\n",
      "Epoch 36/100\n",
      "1536/1536 [==============================] - 1s 533us/step - loss: 0.9527 - sparse_categorical_accuracy: 0.7151\n",
      "Epoch 37/100\n",
      "1536/1536 [==============================] - 1s 536us/step - loss: 0.9513 - sparse_categorical_accuracy: 0.7159\n",
      "Epoch 38/100\n",
      "1536/1536 [==============================] - 1s 533us/step - loss: 0.9500 - sparse_categorical_accuracy: 0.7160\n",
      "Epoch 39/100\n",
      "1536/1536 [==============================] - 1s 532us/step - loss: 0.9484 - sparse_categorical_accuracy: 0.7167\n",
      "Epoch 40/100\n",
      "1536/1536 [==============================] - 1s 547us/step - loss: 0.9462 - sparse_categorical_accuracy: 0.7172\n",
      "Epoch 41/100\n",
      "1536/1536 [==============================] - 1s 533us/step - loss: 0.9439 - sparse_categorical_accuracy: 0.7176\n",
      "Epoch 42/100\n",
      "1536/1536 [==============================] - 1s 540us/step - loss: 0.9430 - sparse_categorical_accuracy: 0.7179\n",
      "Epoch 43/100\n",
      "1536/1536 [==============================] - 1s 528us/step - loss: 0.9411 - sparse_categorical_accuracy: 0.7191\n",
      "Epoch 44/100\n",
      "1536/1536 [==============================] - 1s 519us/step - loss: 0.9387 - sparse_categorical_accuracy: 0.7186\n",
      "Epoch 45/100\n",
      "1536/1536 [==============================] - 1s 548us/step - loss: 0.9375 - sparse_categorical_accuracy: 0.7195\n",
      "Epoch 46/100\n",
      "1536/1536 [==============================] - 1s 543us/step - loss: 0.9375 - sparse_categorical_accuracy: 0.7206 0s - loss: 0.9142 - sparse_categorical_accu\n",
      "Epoch 47/100\n",
      "1536/1536 [==============================] - 1s 555us/step - loss: 0.9350 - sparse_categorical_accuracy: 0.7212\n",
      "Epoch 48/100\n",
      "1536/1536 [==============================] - 1s 537us/step - loss: 0.9328 - sparse_categorical_accuracy: 0.7222 0s - loss: 0.9425 - sparse_categorical_accura\n",
      "Epoch 49/100\n",
      "1536/1536 [==============================] - 1s 540us/step - loss: 0.9312 - sparse_categorical_accuracy: 0.7223\n",
      "Epoch 50/100\n",
      "1536/1536 [==============================] - 1s 530us/step - loss: 0.9294 - sparse_categorical_accuracy: 0.7241\n",
      "Epoch 51/100\n",
      "1536/1536 [==============================] - 1s 538us/step - loss: 0.9286 - sparse_categorical_accuracy: 0.7241\n",
      "Epoch 52/100\n",
      "1536/1536 [==============================] - 1s 535us/step - loss: 0.9263 - sparse_categorical_accuracy: 0.7251\n",
      "Epoch 53/100\n",
      "1536/1536 [==============================] - 1s 561us/step - loss: 0.9253 - sparse_categorical_accuracy: 0.7252\n",
      "Epoch 54/100\n",
      "1536/1536 [==============================] - 1s 565us/step - loss: 0.9237 - sparse_categorical_accuracy: 0.7262\n",
      "Epoch 55/100\n",
      "1536/1536 [==============================] - 1s 566us/step - loss: 0.9221 - sparse_categorical_accuracy: 0.7275\n",
      "Epoch 56/100\n",
      "1536/1536 [==============================] - 1s 541us/step - loss: 0.9218 - sparse_categorical_accuracy: 0.7269\n",
      "Epoch 57/100\n",
      "1536/1536 [==============================] - 1s 554us/step - loss: 0.9200 - sparse_categorical_accuracy: 0.7288\n",
      "Epoch 58/100\n",
      "1536/1536 [==============================] - 1s 538us/step - loss: 0.9183 - sparse_categorical_accuracy: 0.7292\n",
      "Epoch 59/100\n",
      "1536/1536 [==============================] - 1s 536us/step - loss: 0.9167 - sparse_categorical_accuracy: 0.7308\n",
      "Epoch 60/100\n",
      "1536/1536 [==============================] - 1s 531us/step - loss: 0.9153 - sparse_categorical_accuracy: 0.7320\n",
      "Epoch 61/100\n",
      "1536/1536 [==============================] - 1s 555us/step - loss: 0.9134 - sparse_categorical_accuracy: 0.7318\n",
      "Epoch 62/100\n",
      "1536/1536 [==============================] - 1s 543us/step - loss: 0.9120 - sparse_categorical_accuracy: 0.7323\n",
      "Epoch 63/100\n",
      "1536/1536 [==============================] - 1s 536us/step - loss: 0.9115 - sparse_categorical_accuracy: 0.7334\n",
      "Epoch 64/100\n",
      "1536/1536 [==============================] - 1s 547us/step - loss: 0.9102 - sparse_categorical_accuracy: 0.7329\n",
      "Epoch 65/100\n"
     ]
    },
    {
     "name": "stdout",
     "output_type": "stream",
     "text": [
      "1536/1536 [==============================] - 1s 534us/step - loss: 0.9084 - sparse_categorical_accuracy: 0.7338\n",
      "Epoch 66/100\n",
      "1536/1536 [==============================] - 1s 557us/step - loss: 0.9065 - sparse_categorical_accuracy: 0.7349\n",
      "Epoch 67/100\n",
      "1536/1536 [==============================] - 1s 555us/step - loss: 0.9054 - sparse_categorical_accuracy: 0.7356\n",
      "Epoch 68/100\n",
      "1536/1536 [==============================] - 1s 552us/step - loss: 0.9044 - sparse_categorical_accuracy: 0.7356\n",
      "Epoch 69/100\n",
      "1536/1536 [==============================] - 1s 541us/step - loss: 0.9023 - sparse_categorical_accuracy: 0.7366\n",
      "Epoch 70/100\n",
      "1536/1536 [==============================] - 1s 553us/step - loss: 0.9014 - sparse_categorical_accuracy: 0.7363\n",
      "Epoch 71/100\n",
      "1536/1536 [==============================] - 1s 547us/step - loss: 0.9012 - sparse_categorical_accuracy: 0.7374\n",
      "Epoch 72/100\n",
      "1536/1536 [==============================] - 1s 530us/step - loss: 0.8998 - sparse_categorical_accuracy: 0.7378\n",
      "Epoch 73/100\n",
      "1536/1536 [==============================] - 1s 556us/step - loss: 0.8979 - sparse_categorical_accuracy: 0.7386\n",
      "Epoch 74/100\n",
      "1536/1536 [==============================] - 1s 535us/step - loss: 0.8972 - sparse_categorical_accuracy: 0.7387\n",
      "Epoch 75/100\n",
      "1536/1536 [==============================] - 1s 555us/step - loss: 0.8957 - sparse_categorical_accuracy: 0.7384\n",
      "Epoch 76/100\n",
      "1536/1536 [==============================] - 1s 543us/step - loss: 0.8952 - sparse_categorical_accuracy: 0.7386\n",
      "Epoch 77/100\n",
      "1536/1536 [==============================] - 1s 531us/step - loss: 0.8938 - sparse_categorical_accuracy: 0.7398\n",
      "Epoch 78/100\n",
      "1536/1536 [==============================] - 1s 536us/step - loss: 0.8926 - sparse_categorical_accuracy: 0.7405\n",
      "Epoch 79/100\n",
      "1536/1536 [==============================] - 1s 531us/step - loss: 0.8921 - sparse_categorical_accuracy: 0.7393\n",
      "Epoch 80/100\n",
      "1536/1536 [==============================] - 1s 522us/step - loss: 0.8910 - sparse_categorical_accuracy: 0.7403\n",
      "Epoch 81/100\n",
      "1536/1536 [==============================] - 1s 524us/step - loss: 0.8900 - sparse_categorical_accuracy: 0.7409\n",
      "Epoch 82/100\n",
      "1536/1536 [==============================] - 1s 527us/step - loss: 0.8884 - sparse_categorical_accuracy: 0.7409\n",
      "Epoch 83/100\n",
      "1536/1536 [==============================] - 1s 542us/step - loss: 0.8879 - sparse_categorical_accuracy: 0.7410\n",
      "Epoch 84/100\n",
      "1536/1536 [==============================] - 1s 536us/step - loss: 0.8861 - sparse_categorical_accuracy: 0.7411\n",
      "Epoch 85/100\n",
      "1536/1536 [==============================] - 1s 543us/step - loss: 0.8852 - sparse_categorical_accuracy: 0.7428\n",
      "Epoch 86/100\n",
      "1536/1536 [==============================] - 1s 526us/step - loss: 0.8844 - sparse_categorical_accuracy: 0.7426\n",
      "Epoch 87/100\n",
      "1536/1536 [==============================] - 1s 536us/step - loss: 0.8827 - sparse_categorical_accuracy: 0.7427\n",
      "Epoch 88/100\n",
      "1536/1536 [==============================] - 1s 584us/step - loss: 0.8818 - sparse_categorical_accuracy: 0.7426\n",
      "Epoch 89/100\n",
      "1536/1536 [==============================] - 1s 531us/step - loss: 0.8816 - sparse_categorical_accuracy: 0.7432\n",
      "Epoch 90/100\n",
      "1536/1536 [==============================] - 1s 550us/step - loss: 0.8807 - sparse_categorical_accuracy: 0.7430\n",
      "Epoch 91/100\n",
      "1536/1536 [==============================] - 1s 561us/step - loss: 0.8792 - sparse_categorical_accuracy: 0.7437\n",
      "Epoch 92/100\n",
      "1536/1536 [==============================] - 1s 570us/step - loss: 0.8786 - sparse_categorical_accuracy: 0.7438\n",
      "Epoch 93/100\n",
      "1536/1536 [==============================] - 1s 552us/step - loss: 0.8800 - sparse_categorical_accuracy: 0.7441\n",
      "Epoch 94/100\n",
      "1536/1536 [==============================] - 1s 556us/step - loss: 0.8771 - sparse_categorical_accuracy: 0.7443\n",
      "Epoch 95/100\n",
      "1536/1536 [==============================] - 1s 513us/step - loss: 0.8755 - sparse_categorical_accuracy: 0.7451\n",
      "Epoch 96/100\n",
      "1536/1536 [==============================] - 1s 534us/step - loss: 0.8749 - sparse_categorical_accuracy: 0.7446\n",
      "Epoch 97/100\n",
      "1536/1536 [==============================] - 1s 554us/step - loss: 0.8738 - sparse_categorical_accuracy: 0.7455\n",
      "Epoch 98/100\n",
      "1536/1536 [==============================] - 1s 563us/step - loss: 0.8745 - sparse_categorical_accuracy: 0.7445\n",
      "Epoch 99/100\n",
      "1536/1536 [==============================] - 1s 554us/step - loss: 0.8722 - sparse_categorical_accuracy: 0.7454\n",
      "Epoch 100/100\n",
      "1536/1536 [==============================] - 1s 549us/step - loss: 0.8713 - sparse_categorical_accuracy: 0.7457\n"
     ]
    },
    {
     "data": {
      "text/plain": [
       "<keras.callbacks.History at 0x237cf769358>"
      ]
     },
     "execution_count": 10,
     "metadata": {},
     "output_type": "execute_result"
    }
   ],
   "source": [
    "model = simple_model(input_shape=(maxLen, feature_size))\n",
    "# Use sparse loss due to not using 1-hot-encoding\n",
    "model.compile(loss='sparse_categorical_crossentropy', optimizer='adam', metrics=['sparse_categorical_accuracy'])\n",
    "model.fit(X, Y, epochs = 100, batch_size = 32, shuffle=True)"
   ]
  },
  {
   "cell_type": "markdown",
   "metadata": {},
   "source": [
    "We got 75% accuracy after 100-200 epochs. Let's try LSTM"
   ]
  },
  {
   "cell_type": "code",
   "execution_count": 11,
   "metadata": {},
   "outputs": [],
   "source": [
    "# create the model\n",
    "def lstm_model(input_shape, n_a = 50):\n",
    "    inp = Input(shape=input_shape, name='x')\n",
    "    X = LSTM(n_a, return_sequences=True)(inp)\n",
    "    X = Dense(vocab_size+1, activation='softmax')(X)\n",
    "    model = Model(inputs=inp, outputs=X)\n",
    "    return model"
   ]
  },
  {
   "cell_type": "code",
   "execution_count": 12,
   "metadata": {},
   "outputs": [
    {
     "name": "stdout",
     "output_type": "stream",
     "text": [
      "Epoch 1/100\n",
      "1536/1536 [==============================] - 2s 2ms/step - loss: 2.7497 - sparse_categorical_accuracy: 0.3500\n",
      "Epoch 2/100\n",
      "1536/1536 [==============================] - 2s 1ms/step - loss: 1.6225 - sparse_categorical_accuracy: 0.5701\n",
      "Epoch 3/100\n",
      "1536/1536 [==============================] - 2s 1ms/step - loss: 1.3245 - sparse_categorical_accuracy: 0.6016\n",
      "Epoch 4/100\n",
      "1536/1536 [==============================] - 2s 1ms/step - loss: 1.2386 - sparse_categorical_accuracy: 0.6386\n",
      "Epoch 5/100\n",
      "1536/1536 [==============================] - 2s 1ms/step - loss: 1.1793 - sparse_categorical_accuracy: 0.6782\n",
      "Epoch 6/100\n",
      "1536/1536 [==============================] - 2s 1ms/step - loss: 1.1327 - sparse_categorical_accuracy: 0.6937\n",
      "Epoch 7/100\n",
      "1536/1536 [==============================] - 2s 1ms/step - loss: 1.0987 - sparse_categorical_accuracy: 0.6990\n",
      "Epoch 8/100\n",
      "1536/1536 [==============================] - 2s 1ms/step - loss: 1.0753 - sparse_categorical_accuracy: 0.7001\n",
      "Epoch 9/100\n",
      "1536/1536 [==============================] - 2s 1ms/step - loss: 1.0590 - sparse_categorical_accuracy: 0.7018\n",
      "Epoch 10/100\n",
      "1536/1536 [==============================] - 2s 1ms/step - loss: 1.0474 - sparse_categorical_accuracy: 0.7035\n",
      "Epoch 11/100\n",
      "1536/1536 [==============================] - 2s 1ms/step - loss: 1.0391 - sparse_categorical_accuracy: 0.7039\n",
      "Epoch 12/100\n",
      "1536/1536 [==============================] - 2s 1ms/step - loss: 1.0308 - sparse_categorical_accuracy: 0.7048\n",
      "Epoch 13/100\n",
      "1536/1536 [==============================] - 2s 1ms/step - loss: 1.0235 - sparse_categorical_accuracy: 0.7055\n",
      "Epoch 14/100\n",
      "1536/1536 [==============================] - 2s 1ms/step - loss: 1.0189 - sparse_categorical_accuracy: 0.7052\n",
      "Epoch 15/100\n",
      "1536/1536 [==============================] - 2s 1ms/step - loss: 1.0121 - sparse_categorical_accuracy: 0.7071\n",
      "Epoch 16/100\n",
      "1536/1536 [==============================] - 2s 1ms/step - loss: 1.0068 - sparse_categorical_accuracy: 0.7061\n",
      "Epoch 17/100\n",
      "1536/1536 [==============================] - 2s 1ms/step - loss: 1.0023 - sparse_categorical_accuracy: 0.7074\n",
      "Epoch 18/100\n",
      "1536/1536 [==============================] - 2s 1ms/step - loss: 0.9975 - sparse_categorical_accuracy: 0.7083\n",
      "Epoch 19/100\n",
      "1536/1536 [==============================] - 2s 1ms/step - loss: 0.9929 - sparse_categorical_accuracy: 0.7091\n",
      "Epoch 20/100\n",
      "1536/1536 [==============================] - 2s 1ms/step - loss: 0.9885 - sparse_categorical_accuracy: 0.7086\n",
      "Epoch 21/100\n",
      "1536/1536 [==============================] - 2s 1ms/step - loss: 0.9846 - sparse_categorical_accuracy: 0.7092\n",
      "Epoch 22/100\n",
      "1536/1536 [==============================] - 2s 1ms/step - loss: 0.9817 - sparse_categorical_accuracy: 0.7094\n",
      "Epoch 23/100\n",
      "1536/1536 [==============================] - 2s 1ms/step - loss: 0.9767 - sparse_categorical_accuracy: 0.7102\n",
      "Epoch 24/100\n",
      "1536/1536 [==============================] - 2s 1ms/step - loss: 0.9730 - sparse_categorical_accuracy: 0.7119\n",
      "Epoch 25/100\n",
      "1536/1536 [==============================] - 2s 1ms/step - loss: 0.9699 - sparse_categorical_accuracy: 0.7129\n",
      "Epoch 26/100\n",
      "1536/1536 [==============================] - 2s 1ms/step - loss: 0.9666 - sparse_categorical_accuracy: 0.7144\n",
      "Epoch 27/100\n",
      "1536/1536 [==============================] - 2s 1ms/step - loss: 0.9636 - sparse_categorical_accuracy: 0.7153\n",
      "Epoch 28/100\n",
      "1536/1536 [==============================] - 2s 1ms/step - loss: 0.9597 - sparse_categorical_accuracy: 0.7168\n",
      "Epoch 29/100\n",
      "1536/1536 [==============================] - 2s 1ms/step - loss: 0.9565 - sparse_categorical_accuracy: 0.7179\n",
      "Epoch 30/100\n",
      "1536/1536 [==============================] - 2s 1ms/step - loss: 0.9537 - sparse_categorical_accuracy: 0.7198\n",
      "Epoch 31/100\n",
      "1536/1536 [==============================] - 2s 1ms/step - loss: 0.9506 - sparse_categorical_accuracy: 0.7194\n",
      "Epoch 32/100\n",
      "1536/1536 [==============================] - 2s 1ms/step - loss: 0.9477 - sparse_categorical_accuracy: 0.7225\n",
      "Epoch 33/100\n",
      "1536/1536 [==============================] - 2s 1ms/step - loss: 0.9446 - sparse_categorical_accuracy: 0.7236\n",
      "Epoch 34/100\n",
      "1536/1536 [==============================] - 2s 1ms/step - loss: 0.9426 - sparse_categorical_accuracy: 0.7243\n",
      "Epoch 35/100\n",
      "1536/1536 [==============================] - 2s 1ms/step - loss: 0.9387 - sparse_categorical_accuracy: 0.7251\n",
      "Epoch 36/100\n",
      "1536/1536 [==============================] - 2s 1ms/step - loss: 0.9361 - sparse_categorical_accuracy: 0.7274\n",
      "Epoch 37/100\n",
      "1536/1536 [==============================] - 2s 1ms/step - loss: 0.9334 - sparse_categorical_accuracy: 0.7285\n",
      "Epoch 38/100\n",
      "1536/1536 [==============================] - 2s 1ms/step - loss: 0.9312 - sparse_categorical_accuracy: 0.7291\n",
      "Epoch 39/100\n",
      "1536/1536 [==============================] - 2s 1ms/step - loss: 0.9288 - sparse_categorical_accuracy: 0.7305\n",
      "Epoch 40/100\n",
      "1536/1536 [==============================] - 2s 1ms/step - loss: 0.9257 - sparse_categorical_accuracy: 0.7315\n",
      "Epoch 41/100\n",
      "1536/1536 [==============================] - 2s 1ms/step - loss: 0.9236 - sparse_categorical_accuracy: 0.7321\n",
      "Epoch 42/100\n",
      "1536/1536 [==============================] - 2s 1ms/step - loss: 0.9213 - sparse_categorical_accuracy: 0.7327\n",
      "Epoch 43/100\n",
      "1536/1536 [==============================] - 2s 1ms/step - loss: 0.9187 - sparse_categorical_accuracy: 0.7335\n",
      "Epoch 44/100\n",
      "1536/1536 [==============================] - 2s 1ms/step - loss: 0.9168 - sparse_categorical_accuracy: 0.7344\n",
      "Epoch 45/100\n",
      "1536/1536 [==============================] - 2s 1ms/step - loss: 0.9149 - sparse_categorical_accuracy: 0.7347\n",
      "Epoch 46/100\n",
      "1536/1536 [==============================] - 2s 1ms/step - loss: 0.9124 - sparse_categorical_accuracy: 0.7353\n",
      "Epoch 47/100\n",
      "1536/1536 [==============================] - 2s 1ms/step - loss: 0.9098 - sparse_categorical_accuracy: 0.7361\n",
      "Epoch 48/100\n",
      "1536/1536 [==============================] - 2s 1ms/step - loss: 0.9086 - sparse_categorical_accuracy: 0.7370A: 0s - loss: 0.9110 - sparse_categorical_accura\n",
      "Epoch 49/100\n",
      "1536/1536 [==============================] - 2s 1ms/step - loss: 0.9061 - sparse_categorical_accuracy: 0.7374\n",
      "Epoch 50/100\n",
      "1536/1536 [==============================] - 2s 1ms/step - loss: 0.9039 - sparse_categorical_accuracy: 0.7374\n",
      "Epoch 51/100\n",
      "1536/1536 [==============================] - 2s 1ms/step - loss: 0.9028 - sparse_categorical_accuracy: 0.7377\n",
      "Epoch 52/100\n",
      "1536/1536 [==============================] - 2s 1ms/step - loss: 0.9006 - sparse_categorical_accuracy: 0.7396\n",
      "Epoch 53/100\n",
      "1536/1536 [==============================] - 2s 1ms/step - loss: 0.8985 - sparse_categorical_accuracy: 0.7404\n",
      "Epoch 54/100\n",
      "1536/1536 [==============================] - 2s 1ms/step - loss: 0.8969 - sparse_categorical_accuracy: 0.7400\n",
      "Epoch 55/100\n",
      "1536/1536 [==============================] - 2s 1ms/step - loss: 0.8945 - sparse_categorical_accuracy: 0.7406\n",
      "Epoch 56/100\n",
      "1536/1536 [==============================] - 2s 1ms/step - loss: 0.8933 - sparse_categorical_accuracy: 0.7414\n",
      "Epoch 57/100\n",
      "1536/1536 [==============================] - 2s 1ms/step - loss: 0.8911 - sparse_categorical_accuracy: 0.7418A: 1s - loss: 0.9056 - sparse_catego\n",
      "Epoch 58/100\n",
      "1536/1536 [==============================] - 2s 1ms/step - loss: 0.8896 - sparse_categorical_accuracy: 0.7417\n",
      "Epoch 59/100\n",
      "1536/1536 [==============================] - 2s 1ms/step - loss: 0.8880 - sparse_categorical_accuracy: 0.7417\n",
      "Epoch 60/100\n",
      "1536/1536 [==============================] - 2s 1ms/step - loss: 0.8864 - sparse_categorical_accuracy: 0.7429\n",
      "Epoch 61/100\n",
      "1536/1536 [==============================] - 2s 1ms/step - loss: 0.8846 - sparse_categorical_accuracy: 0.7434\n",
      "Epoch 62/100\n",
      "1536/1536 [==============================] - 2s 1ms/step - loss: 0.8830 - sparse_categorical_accuracy: 0.7444\n",
      "Epoch 63/100\n",
      "1536/1536 [==============================] - 2s 1ms/step - loss: 0.8816 - sparse_categorical_accuracy: 0.7444\n",
      "Epoch 64/100\n",
      "1536/1536 [==============================] - 2s 1ms/step - loss: 0.8800 - sparse_categorical_accuracy: 0.7442\n",
      "Epoch 65/100\n",
      "1536/1536 [==============================] - 2s 1ms/step - loss: 0.8782 - sparse_categorical_accuracy: 0.7448\n",
      "Epoch 66/100\n",
      "1536/1536 [==============================] - 2s 1ms/step - loss: 0.8774 - sparse_categorical_accuracy: 0.7446\n"
     ]
    },
    {
     "name": "stdout",
     "output_type": "stream",
     "text": [
      "Epoch 67/100\n",
      "1536/1536 [==============================] - 2s 1ms/step - loss: 0.8758 - sparse_categorical_accuracy: 0.7450\n",
      "Epoch 68/100\n",
      "1536/1536 [==============================] - 2s 1ms/step - loss: 0.8750 - sparse_categorical_accuracy: 0.7469\n",
      "Epoch 69/100\n",
      "1536/1536 [==============================] - 2s 1ms/step - loss: 0.8735 - sparse_categorical_accuracy: 0.7450\n",
      "Epoch 70/100\n",
      "1536/1536 [==============================] - 2s 1ms/step - loss: 0.8722 - sparse_categorical_accuracy: 0.7459\n",
      "Epoch 71/100\n",
      "1536/1536 [==============================] - 2s 1ms/step - loss: 0.8706 - sparse_categorical_accuracy: 0.7460\n",
      "Epoch 72/100\n",
      "1536/1536 [==============================] - 2s 1ms/step - loss: 0.8694 - sparse_categorical_accuracy: 0.7466\n",
      "Epoch 73/100\n",
      "1536/1536 [==============================] - 2s 1ms/step - loss: 0.8677 - sparse_categorical_accuracy: 0.7473\n",
      "Epoch 74/100\n",
      "1536/1536 [==============================] - 2s 1ms/step - loss: 0.8663 - sparse_categorical_accuracy: 0.7473\n",
      "Epoch 75/100\n",
      "1536/1536 [==============================] - 2s 1ms/step - loss: 0.8647 - sparse_categorical_accuracy: 0.7477\n",
      "Epoch 76/100\n",
      "1536/1536 [==============================] - 2s 1ms/step - loss: 0.8636 - sparse_categorical_accuracy: 0.7477\n",
      "Epoch 77/100\n",
      "1536/1536 [==============================] - 2s 1ms/step - loss: 0.8629 - sparse_categorical_accuracy: 0.7482\n",
      "Epoch 78/100\n",
      "1536/1536 [==============================] - 2s 1ms/step - loss: 0.8610 - sparse_categorical_accuracy: 0.7486\n",
      "Epoch 79/100\n",
      "1536/1536 [==============================] - 2s 1ms/step - loss: 0.8600 - sparse_categorical_accuracy: 0.7490\n",
      "Epoch 80/100\n",
      "1536/1536 [==============================] - 2s 1ms/step - loss: 0.8593 - sparse_categorical_accuracy: 0.7494\n",
      "Epoch 81/100\n",
      "1536/1536 [==============================] - 2s 1ms/step - loss: 0.8571 - sparse_categorical_accuracy: 0.7500\n",
      "Epoch 82/100\n",
      "1536/1536 [==============================] - 2s 1ms/step - loss: 0.8564 - sparse_categorical_accuracy: 0.7499\n",
      "Epoch 83/100\n",
      "1536/1536 [==============================] - 2s 1ms/step - loss: 0.8554 - sparse_categorical_accuracy: 0.7503\n",
      "Epoch 84/100\n",
      "1536/1536 [==============================] - 2s 1ms/step - loss: 0.8537 - sparse_categorical_accuracy: 0.7514\n",
      "Epoch 85/100\n",
      "1536/1536 [==============================] - 2s 1ms/step - loss: 0.8528 - sparse_categorical_accuracy: 0.7510\n",
      "Epoch 86/100\n",
      "1536/1536 [==============================] - 2s 1ms/step - loss: 0.8517 - sparse_categorical_accuracy: 0.7509\n",
      "Epoch 87/100\n",
      "1536/1536 [==============================] - 2s 1ms/step - loss: 0.8502 - sparse_categorical_accuracy: 0.7513\n",
      "Epoch 88/100\n",
      "1536/1536 [==============================] - 2s 1ms/step - loss: 0.8495 - sparse_categorical_accuracy: 0.7513\n",
      "Epoch 89/100\n",
      "1536/1536 [==============================] - 2s 1ms/step - loss: 0.8488 - sparse_categorical_accuracy: 0.7518\n",
      "Epoch 90/100\n",
      "1536/1536 [==============================] - 2s 1ms/step - loss: 0.8468 - sparse_categorical_accuracy: 0.7524\n",
      "Epoch 91/100\n",
      "1536/1536 [==============================] - 2s 1ms/step - loss: 0.8471 - sparse_categorical_accuracy: 0.7517\n",
      "Epoch 92/100\n",
      "1536/1536 [==============================] - 2s 1ms/step - loss: 0.8457 - sparse_categorical_accuracy: 0.7520\n",
      "Epoch 93/100\n",
      "1536/1536 [==============================] - 2s 1ms/step - loss: 0.8445 - sparse_categorical_accuracy: 0.7530\n",
      "Epoch 94/100\n",
      "1536/1536 [==============================] - 2s 1ms/step - loss: 0.8433 - sparse_categorical_accuracy: 0.7534\n",
      "Epoch 95/100\n",
      "1536/1536 [==============================] - 2s 1ms/step - loss: 0.8421 - sparse_categorical_accuracy: 0.7528\n",
      "Epoch 96/100\n",
      "1536/1536 [==============================] - 2s 1ms/step - loss: 0.8409 - sparse_categorical_accuracy: 0.7534\n",
      "Epoch 97/100\n",
      "1536/1536 [==============================] - 2s 1ms/step - loss: 0.8409 - sparse_categorical_accuracy: 0.7533\n",
      "Epoch 98/100\n",
      "1536/1536 [==============================] - 2s 1ms/step - loss: 0.8390 - sparse_categorical_accuracy: 0.7539\n",
      "Epoch 99/100\n",
      "1536/1536 [==============================] - 2s 1ms/step - loss: 0.8384 - sparse_categorical_accuracy: 0.7542\n",
      "Epoch 100/100\n",
      "1536/1536 [==============================] - 2s 1ms/step - loss: 0.8365 - sparse_categorical_accuracy: 0.7550\n"
     ]
    },
    {
     "data": {
      "text/plain": [
       "<keras.callbacks.History at 0x237d13bb940>"
      ]
     },
     "execution_count": 12,
     "metadata": {},
     "output_type": "execute_result"
    }
   ],
   "source": [
    "lstm = lstm_model(input_shape=(maxLen, feature_size))\n",
    "lstm.compile(loss='sparse_categorical_crossentropy', optimizer='adam', metrics=['sparse_categorical_accuracy'])\n",
    "lstm.fit(X, Y, epochs = 100, batch_size = 32, shuffle=True)"
   ]
  },
  {
   "cell_type": "code",
   "execution_count": 21,
   "metadata": {},
   "outputs": [
    {
     "name": "stdout",
     "output_type": "stream",
     "text": [
      "(None, 26, 28)\n"
     ]
    }
   ],
   "source": [
    "print(lstm.output_shape)"
   ]
  },
  {
   "cell_type": "code",
   "execution_count": 25,
   "metadata": {},
   "outputs": [
    {
     "data": {
      "text/plain": [
       "26"
      ]
     },
     "execution_count": 25,
     "metadata": {},
     "output_type": "execute_result"
    }
   ],
   "source": [
    "len([0])"
   ]
  },
  {
   "cell_type": "code",
   "execution_count": 26,
   "metadata": {},
   "outputs": [],
   "source": [
    "pred = lstm.predict(X)"
   ]
  },
  {
   "cell_type": "code",
   "execution_count": 34,
   "metadata": {},
   "outputs": [],
   "source": [
    "preds_ch = []\n",
    "for p in preds:\n",
    "    w = []\n",
    "    for i in p:\n",
    "        w.append(ix_to_char[i])\n",
    "    preds_ch.append(w)"
   ]
  },
  {
   "cell_type": "code",
   "execution_count": 42,
   "metadata": {},
   "outputs": [
    {
     "data": {
      "text/plain": [
       "['a',\n",
       " 'n',\n",
       " 'a',\n",
       " 'a',\n",
       " 'n',\n",
       " 'o',\n",
       " 's',\n",
       " 's',\n",
       " 'o',\n",
       " '',\n",
       " '',\n",
       " '',\n",
       " '',\n",
       " '',\n",
       " '',\n",
       " '',\n",
       " '',\n",
       " '',\n",
       " '',\n",
       " '',\n",
       " '',\n",
       " '',\n",
       " '',\n",
       " '',\n",
       " '',\n",
       " '']"
      ]
     },
     "execution_count": 42,
     "metadata": {},
     "output_type": "execute_result"
    }
   ],
   "source": [
    "preds_ch[15]"
   ]
  },
  {
   "cell_type": "code",
   "execution_count": 43,
   "metadata": {},
   "outputs": [
    {
     "data": {
      "text/plain": [
       "'qiupalong'"
      ]
     },
     "execution_count": 43,
     "metadata": {},
     "output_type": "execute_result"
    }
   ],
   "source": [
    "examples[15]"
   ]
  },
  {
   "cell_type": "code",
   "execution_count": null,
   "metadata": {},
   "outputs": [],
   "source": []
  }
 ],
 "metadata": {
  "kernelspec": {
   "display_name": "Python 3",
   "language": "python",
   "name": "python3"
  },
  "language_info": {
   "codemirror_mode": {
    "name": "ipython",
    "version": 3
   },
   "file_extension": ".py",
   "mimetype": "text/x-python",
   "name": "python",
   "nbconvert_exporter": "python",
   "pygments_lexer": "ipython3",
   "version": "3.5.6"
  }
 },
 "nbformat": 4,
 "nbformat_minor": 2
}
